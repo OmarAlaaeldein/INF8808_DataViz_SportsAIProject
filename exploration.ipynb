{
 "cells": [
  {
   "cell_type": "code",
   "execution_count": 13,
   "metadata": {},
   "outputs": [],
   "source": [
    "import pandas as pd\n",
    "\n",
    "players_stats = pd.read_excel('EURO_2020_DATA.xlsx', sheet_name='Players stats')"
   ]
  },
  {
   "cell_type": "code",
   "execution_count": 14,
   "metadata": {},
   "outputs": [
    {
     "data": {
      "text/plain": [
       "array([<class 'int'>, <class 'float'>, <class 'datetime.time'>,\n",
       "       <class 'str'>], dtype=object)"
      ]
     },
     "execution_count": 14,
     "metadata": {},
     "output_type": "execute_result"
    }
   ],
   "source": [
    "players_stats.Value.apply(type).unique()"
   ]
  },
  {
   "cell_type": "code",
   "execution_count": 15,
   "metadata": {},
   "outputs": [
    {
     "name": "stdout",
     "output_type": "stream",
     "text": [
      "0.01 33.8\n"
     ]
    }
   ],
   "source": [
    "print(players_stats.Value[players_stats.Value.apply(type)==float].min(), players_stats.Value[players_stats.Value.apply(type)==float].max())"
   ]
  },
  {
   "cell_type": "code",
   "execution_count": 16,
   "metadata": {},
   "outputs": [
    {
     "name": "stdout",
     "output_type": "stream",
     "text": [
      "00:00:00 02:15:42.144000\n"
     ]
    }
   ],
   "source": [
    "import datetime\n",
    "\n",
    "print(players_stats.Value[players_stats.Value.apply(type)==datetime.time].min(),players_stats.Value[players_stats.Value.apply(type)==datetime.time].max())"
   ]
  },
  {
   "cell_type": "code",
   "execution_count": 17,
   "metadata": {},
   "outputs": [
    {
     "name": "stdout",
     "output_type": "stream",
     "text": [
      "164       ,,,,,,,,,,,,,,,,,,,,,,,,,,,,,,,,,,,,,,,,,,,,,,...\n",
      "344       ,,,,,1,1,1,2,2,2,4,5,7,7,8,8,10,11,8,11,9,8,7,...\n",
      "524       ,,,,,,,,,,,,,,,,,,,,,,,,,,,,,,,,,,,,,,,,,,,,,,...\n",
      "704       ,,,,,,,,,,,,,,,,,,1,,,,,,1,1,,,,,,,,,,,,,,,,,,...\n",
      "884       ,,,,,,,,,,,,1,2,1,1,1,1,1,1,2,1,,,,,,1,1,2,,1,...\n",
      "                                ...                        \n",
      "275445    ,,,,,,,,,,,,,,,,,,,,,,,,,,,,,,,,,,,,,,,,,,1,2,...\n",
      "275625    ,,,,,,,,,,,,,,,,,,,,,,,,,,,,,,,,,,,,,,,,,,,,,,...\n",
      "275805    ,,,,,,,,,,,,,,,,,,,,1,,1,1,1,,,,,,,,,,,,,,,,1,...\n",
      "275985    ,,,,,,,,,,,,,,,,,,,,,,,,,,,,,,,,,1,1,,,,,,,,,,...\n",
      "276165    ,,,,,,,,,,,,,1,,,,,,1,1,1,1,,,,,,,,,,,,,,2,1,1...\n",
      "Name: Value, Length: 1541, dtype: object\n"
     ]
    }
   ],
   "source": [
    "print(players_stats.Value[players_stats.Value.apply(type)==str])"
   ]
  },
  {
   "cell_type": "code",
   "execution_count": 18,
   "metadata": {},
   "outputs": [
    {
     "name": "stdout",
     "output_type": "stream",
     "text": [
      "0 34\n"
     ]
    }
   ],
   "source": [
    "print(players_stats.Rank.min(),players_stats.Rank.max())"
   ]
  },
  {
   "cell_type": "code",
   "execution_count": 19,
   "metadata": {},
   "outputs": [],
   "source": [
    "line_ups = pd.read_excel('EURO_2020_DATA.xlsx', sheet_name='Line-ups')"
   ]
  },
  {
   "cell_type": "code",
   "execution_count": 21,
   "metadata": {},
   "outputs": [
    {
     "name": "stdout",
     "output_type": "stream",
     "text": [
      "   MatchID HomeTeamName     AwayTeamName  IsPitch  IsBench  IsStaff  Country  \\\n",
      "0  2024442      Austria  North Macedonia     True    False    False  Austria   \n",
      "1  2024442      Austria  North Macedonia     True    False    False  Austria   \n",
      "2  2024442      Austria  North Macedonia     True    False    False  Austria   \n",
      "3  2024442      Austria  North Macedonia     True    False    False  Austria   \n",
      "4  2024442      Austria  North Macedonia     True    False    False  Austria   \n",
      "\n",
      "          ID OfficialName OfficialSurname    ShortName         Role  \\\n",
      "0  250056875       Daniel        Bachmann     Bachmann  goalkeepers   \n",
      "1     101177      Andreas           Ulmer        Ulmer    defenders   \n",
      "2    1909713   Aleksandar        Dragovic     Dragovic    defenders   \n",
      "3  250020234       Martin     Hinteregger  Hinteregger    defenders   \n",
      "4    1906540        David           Alaba        Alaba    defenders   \n",
      "\n",
      "   JerseyNumber  IsGoalkeeper   JerseyName  IsCaptain  TacticX  TacticY  \\\n",
      "0          13.0           1.0     Bachmann        0.0    150.0    504.0   \n",
      "1           2.0           0.0        Ulmer        0.0    562.0    153.0   \n",
      "2           3.0           0.0     Dragovic        0.0    345.0    737.0   \n",
      "3           4.0           0.0  Hinteregger        0.0    370.0    317.0   \n",
      "4           8.0           0.0        Alaba        1.0    328.0    455.0   \n",
      "\n",
      "   Numorder  IsBooked  \n",
      "0       1.0       NaN  \n",
      "1       2.0       NaN  \n",
      "2       3.0       NaN  \n",
      "3       4.0       NaN  \n",
      "4       5.0       NaN  \n"
     ]
    }
   ],
   "source": [
    "print(line_ups.head())"
   ]
  },
  {
   "cell_type": "code",
   "execution_count": 24,
   "metadata": {},
   "outputs": [
    {
     "name": "stdout",
     "output_type": "stream",
     "text": [
      "float64\n"
     ]
    }
   ],
   "source": [
    "print(line_ups.TacticX.dtype)"
   ]
  },
  {
   "cell_type": "code",
   "execution_count": 22,
   "metadata": {},
   "outputs": [
    {
     "name": "stdout",
     "output_type": "stream",
     "text": [
      "0.0 1000.0\n"
     ]
    }
   ],
   "source": [
    "print(line_ups.TacticX.min(),line_ups.TacticX.max())"
   ]
  },
  {
   "cell_type": "code",
   "execution_count": 23,
   "metadata": {},
   "outputs": [
    {
     "name": "stdout",
     "output_type": "stream",
     "text": [
      "0.0 911.0\n"
     ]
    }
   ],
   "source": [
    "print(line_ups.TacticY.min(),line_ups.TacticY.max())"
   ]
  },
  {
   "cell_type": "code",
   "execution_count": 25,
   "metadata": {},
   "outputs": [],
   "source": [
    "match_info = pd.read_excel('EURO_2020_DATA.xlsx', sheet_name='Match information')"
   ]
  },
  {
   "cell_type": "code",
   "execution_count": 26,
   "metadata": {},
   "outputs": [
    {
     "name": "stdout",
     "output_type": "stream",
     "text": [
      "  HomeTeamName AwayTeamName       DateandTimeCET  MatchID         RoundName  \\\n",
      "0       Turkey        Italy  2021-06-11T21:00:00  2024447  final tournament   \n",
      "1        Wales  Switzerland  2021-06-12T15:00:00  2024448  final tournament   \n",
      "2      Denmark      Finland  2021-06-12T18:00:00  2024449  final tournament   \n",
      "3      Belgium       Russia  2021-06-12T21:00:00  2024450  final tournament   \n",
      "4      England      Croatia  2021-06-13T15:00:00  2024451  final tournament   \n",
      "\n",
      "   MatchDay  Session  MatchMinute  InjuryTime  NumberOfPhases  Phase  \\\n",
      "0         1        1           90           4               2      2   \n",
      "1         1        2           90           6               2      2   \n",
      "2         1        2           90           5               2      2   \n",
      "3         1        2           90           2               2      2   \n",
      "4         1        3           90           5               2      2   \n",
      "\n",
      "   ScoreHome  ScoreAway MatchStatus  StadiumID RefereeWebName  \\\n",
      "0          0          3      Played      57775       Makkelie   \n",
      "1          1          1      Played  250002745         Turpin   \n",
      "2          0          1      Played      63462         Taylor   \n",
      "3          3          0      Played  250003363    Mateu Lahoz   \n",
      "4          1          0      Played    1100043         Orsato   \n",
      "\n",
      "  AssistantRefereeWebName  Humidity  Temperature  WindSpeed  \n",
      "0               Steegstra        63           24          9  \n",
      "1                   Danos        45           29         23  \n",
      "2                 Beswick        48           17         32  \n",
      "3           Cebrián Devís        23           19          8  \n",
      "4              Giallatini        46           27         11  \n"
     ]
    }
   ],
   "source": [
    "print(match_info.head())"
   ]
  },
  {
   "cell_type": "code",
   "execution_count": 27,
   "metadata": {},
   "outputs": [
    {
     "name": "stdout",
     "output_type": "stream",
     "text": [
      "22 91\n"
     ]
    }
   ],
   "source": [
    "print(match_info.Humidity.min(), match_info.Humidity.max())"
   ]
  },
  {
   "cell_type": "code",
   "execution_count": 28,
   "metadata": {},
   "outputs": [
    {
     "name": "stdout",
     "output_type": "stream",
     "text": [
      "14 34\n"
     ]
    }
   ],
   "source": [
    "print(match_info.Temperature.min(), match_info.Temperature.max())"
   ]
  },
  {
   "cell_type": "code",
   "execution_count": 29,
   "metadata": {},
   "outputs": [
    {
     "name": "stdout",
     "output_type": "stream",
     "text": [
      "2 32\n"
     ]
    }
   ],
   "source": [
    "print(match_info.WindSpeed.min(), match_info.WindSpeed.max())"
   ]
  }
 ],
 "metadata": {
  "kernelspec": {
   "display_name": "venv",
   "language": "python",
   "name": "python3"
  },
  "language_info": {
   "codemirror_mode": {
    "name": "ipython",
    "version": 3
   },
   "file_extension": ".py",
   "mimetype": "text/x-python",
   "name": "python",
   "nbconvert_exporter": "python",
   "pygments_lexer": "ipython3",
   "version": "3.10.12"
  }
 },
 "nbformat": 4,
 "nbformat_minor": 2
}
